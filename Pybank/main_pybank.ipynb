{
 "cells": [
  {
   "cell_type": "code",
   "execution_count": 3,
   "id": "9e125b82-9b2b-43bf-a021-719fbd5d9ed7",
   "metadata": {
    "tags": []
   },
   "outputs": [
    {
     "name": "stdout",
     "output_type": "stream",
     "text": [
      "Financial Analysis\n",
      "------------------\n",
      "Total Months: 86\n",
      "Total: $38382578\n",
      "Average Change: $-2315.12\n",
      "Greatest Increase in Profits: Feb-2012 ($1926159)\n",
      "Greatest Decrease in Profits: Sep-2013 ($-2196167)\n",
      "\n"
     ]
    }
   ],
   "source": [
    "#Import pathlib and csv modules\n",
    "import csv\n",
    "from pathlib import Path\n",
    "\n",
    "#set file path\n",
    "budget_filepath = Path(\"/Users/Tfitz/Documents/School/Python-Homework/Starter_Code/PyBank/Resources/budget_data.csv\")\n",
    "\n",
    "#initialize list objects\n",
    "budget_data = []\n",
    "\n",
    "#read in budget data to list\n",
    "with open(budget_filepath, 'r') as csvfile:\n",
    "    csvreader = csv.reader(csvfile, delimiter=',')\n",
    "    header = next(csvreader)\n",
    "    for row in csvreader:\n",
    "        budget_data.append(row)\n",
    "\n",
    "#initialize variables \n",
    "total_months = 0\n",
    "total_profit_loss = 0\n",
    "changes = []\n",
    "previous_month_profit_losses = None\n",
    "greatest_increase = [\"\",0] #month and amount \n",
    "greatest_decrease = [\"\",0] #amount and amount \n",
    "\n",
    "#loop through budget data\n",
    "for row in budget_data:\n",
    "    #Date, Profit/Losses\n",
    "    current_month = (row[0])\n",
    "    total_months += 1\n",
    "    current_month_profit_losses = (int(row[1]))\n",
    "    total_profit_loss += (int(row[1]))\n",
    "\n",
    "    #calculate change in profit/loss\n",
    "    if previous_month_profit_losses is not None:\n",
    "       change = (current_month_profit_losses - previous_month_profit_losses)  \n",
    "       changes.append(change)\n",
    "\n",
    "       #check for greatest increase\n",
    "       if change > greatest_increase[1]:\n",
    "        greatest_increase = [current_month, change]\n",
    "\n",
    "       #check for greaest decrease\n",
    "       if change < greatest_decrease[1]:\n",
    "        greatest_decrease = [current_month, change]\n",
    "\n",
    "    #set previous month to current month\n",
    "    previous_month_profit_losses = current_month_profit_losses\n",
    "\n",
    "#calculate average change in profit/loss\n",
    "average_change = sum(changes)/len(changes)\n",
    "\n",
    "results = ( \n",
    "    f\"Financial Analysis\\n\"\n",
    "    f\"------------------\\n\"\n",
    "    f\"Total Months: {total_months}\\n\"\n",
    "    f\"Total: ${total_profit_loss}\\n\"\n",
    "    f\"Average Change: ${average_change:.2f}\\n\"\n",
    "    f\"Greatest Increase in Profits: {greatest_increase[0]} (${greatest_increase[1]})\\n\"\n",
    "    f\"Greatest Decrease in Profits: {greatest_decrease[0]} (${greatest_decrease[1]})\\n\"\n",
    "    )\n",
    "print(results)\n",
    "\n",
    "#write results to output file\n",
    "with open(\"Financial_Analysis.txt\", 'w') as file:\n",
    "    file.write(results)"
   ]
  },
  {
   "cell_type": "code",
   "execution_count": null,
   "id": "497dd95d-f906-4fdb-b1e4-125f2673f011",
   "metadata": {},
   "outputs": [],
   "source": []
  }
 ],
 "metadata": {
  "kernelspec": {
   "display_name": "Python 3 (ipykernel)",
   "language": "python",
   "name": "python3"
  },
  "language_info": {
   "codemirror_mode": {
    "name": "ipython",
    "version": 3
   },
   "file_extension": ".py",
   "mimetype": "text/x-python",
   "name": "python",
   "nbconvert_exporter": "python",
   "pygments_lexer": "ipython3",
   "version": "3.11.5"
  }
 },
 "nbformat": 4,
 "nbformat_minor": 5
}
